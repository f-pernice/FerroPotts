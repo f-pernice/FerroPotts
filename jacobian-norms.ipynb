{
 "cells": [
  {
   "cell_type": "code",
   "execution_count": 91,
   "metadata": {},
   "outputs": [],
   "source": [
    "import numpy as np"
   ]
  },
  {
   "cell_type": "code",
   "execution_count": 92,
   "metadata": {},
   "outputs": [],
   "source": [
    "def g(p, beta):\n",
    "    \"\"\"\n",
    "    Implements the Potts model tree recursion.\n",
    "    \n",
    "    Inputs: \n",
    "    p: a (d x q) matrix, giving the marginal probabilities for each of the children. \n",
    "    d here is the number of children and q the number of colors.\n",
    "    \n",
    "    beta: the temperature.\n",
    "    \n",
    "    \n",
    "    Output: a row vector in R^q, giving the marginal probabilities of the parent.\n",
    "    \"\"\"\n",
    "    numerator = np.prod(1 - (1-beta) * p, axis=0)\n",
    "    denominator = np.sum(numerator)\n",
    "    return numerator / denominator\n",
    "\n",
    "def J(p, beta, Psi=lambda x: x*0+1):\n",
    "    \"\"\"\n",
    "    Calculates the Jacobian of the tree recursion.\n",
    "    \n",
    "    Inputs:\n",
    "    p: a (d x q) matrix, giving the marginal probabilities for each of the children.\n",
    "    d here is the number of children and q the number of colors.\n",
    "\n",
    "    beta: the temperature.\n",
    "    \n",
    "    Psi: (a python function) the derivative of the potential function. It's important \n",
    "    that this function is implemented in such a way that in can be applied elementwise\n",
    "    to numpy arrays. By default the constant 1 function.\n",
    "    \n",
    "    Output: a (d x q x q) 3-tensor J, that represents the Jacobian of the tree recursion. \n",
    "    For each i \\in [d], J_i is the Jacobian with respect to just the i'th child's marginal\n",
    "    probabilities.\n",
    "    \"\"\"\n",
    "    term1 = (1-beta) * ( np.outer(g(p, beta), g(p, beta)) - np.diag(g(p, beta)) )\n",
    "    \n",
    "    def to_apply(p_i):\n",
    "        return np.diag(Psi(g(p,beta))) @ term1 @ np.diag(1/(1-(1-beta)*p_i)) @ np.diag(1/Psi(p_i))\n",
    "    \n",
    "    return np.apply_along_axis(to_apply, 1, p)"
   ]
  },
  {
   "cell_type": "code",
   "execution_count": 93,
   "metadata": {},
   "outputs": [
    {
     "name": "stdout",
     "output_type": "stream",
     "text": [
      "Test passed.\n"
     ]
    }
   ],
   "source": [
    "def Jacobian_test():\n",
    "    \"\"\"Numerical small example, with Psi = 1.\"\"\"\n",
    "    p = np.array([[1,0], [1,0]])\n",
    "    betas = np.linspace(0.1, 2, 5)\n",
    "    for b in betas:\n",
    "        Jac = J(p, b)\n",
    "        for i in range(len(Jac)):\n",
    "            if not np.allclose(Jac[0], Jac[i]):\n",
    "                print(\"Children jacobians not equal with equal marginals:\")\n",
    "                print(Jac[0])\n",
    "                print(Jac[i])\n",
    "                return False\n",
    "        true_val = np.array([\n",
    "            [-(1-b)*b/(1+b**2) + (1-b)*b**2*b/(1+b**2)**2, (1-b)*b**2 / (1+b**2)**2],\n",
    "            [(1-b)*b / (1+b**2)**2, -(1-b)/(1+b**2) + (1-b)/(1+ b**2)**2]\n",
    "        ])\n",
    "        if not np.allclose(Jac[0], true_val):\n",
    "            print(\"Jacobians J_i give the wrong value.\")\n",
    "            print(\"Obtained:\")\n",
    "            print(Jac[0])\n",
    "            print(\"Truth:\")\n",
    "            print(true_val)\n",
    "            return False\n",
    "    return True\n",
    "\n",
    "if not Jacobian_test():\n",
    "    print(\"Test 1 failed.\")\n",
    "else:\n",
    "    print(\"Test passed.\")"
   ]
  },
  {
   "cell_type": "code",
   "execution_count": 90,
   "metadata": {},
   "outputs": [],
   "source": [
    "# IMPORTANT NOTE: this matrix norm is **just the 2-norm**, and hence not exactly the same as what's used in Kuikui's\n",
    "# colorings paper. I chose to use this as it's easier to implement. I'm not sure how important it is to stick to \n",
    "# Kuikui's norm here.\n",
    "def norm_2(Jac):\n",
    "    \"\"\"Calculates the 2-norm (operator norm) of the Jacobian Jac.\n",
    "    \n",
    "    Input: a (d x q x q) tensor Jac, as outputted by the J function above.\n",
    "    \n",
    "    Output: The 2-norm of Jac, interpreted as a (q x dq) matrix.\n",
    "    \"\"\"\n",
    "    return np.linalg.norm(np.concatenate(Jac, axis=1), 2)"
   ]
  },
  {
   "cell_type": "markdown",
   "metadata": {},
   "source": [
    "Next we try testing out the colorings example, with Psi(x) = 1/(sqrt(x)(1-x)), q=9 and d=3. Note that this satisfies q >= d + 3sqrt(d).\n",
    "\n",
    "# Issue found\n",
    "We've hit an issue here. There are too many points to evaluate the Jacobian on. If we want to make progress, we need to algorithmically find the point p such that || J(p) || is maximized, and do so efficiently. It feels like this should be doable (?), but for now I'll leave it aside."
   ]
  },
  {
   "cell_type": "code",
   "execution_count": 84,
   "metadata": {},
   "outputs": [
    {
     "data": {
      "text/plain": [
       "11.70820393249937"
      ]
     },
     "execution_count": 84,
     "metadata": {},
     "output_type": "execute_result"
    }
   ],
   "source": [
    "d = 3\n",
    "q = 9\n",
    "\n",
    "probability_vals = np.linspace(0, 1, 5)\n",
    "sub_marginals = "
   ]
  },
  {
   "cell_type": "code",
   "execution_count": 86,
   "metadata": {},
   "outputs": [
    {
     "data": {
      "text/plain": [
       "7450580596923828125"
      ]
     },
     "execution_count": 86,
     "metadata": {},
     "output_type": "execute_result"
    }
   ],
   "source": [
    "(5**9)**3"
   ]
  },
  {
   "cell_type": "code",
   "execution_count": null,
   "metadata": {},
   "outputs": [],
   "source": []
  }
 ],
 "metadata": {
  "kernelspec": {
   "display_name": "Python 3",
   "language": "python",
   "name": "python3"
  },
  "language_info": {
   "codemirror_mode": {
    "name": "ipython",
    "version": 3
   },
   "file_extension": ".py",
   "mimetype": "text/x-python",
   "name": "python",
   "nbconvert_exporter": "python",
   "pygments_lexer": "ipython3",
   "version": "3.8.1"
  }
 },
 "nbformat": 4,
 "nbformat_minor": 4
}
