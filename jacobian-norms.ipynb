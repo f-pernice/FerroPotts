{
 "cells": [
  {
   "cell_type": "code",
   "execution_count": 1,
   "metadata": {},
   "outputs": [],
   "source": [
    "import numpy as np"
   ]
  },
  {
   "cell_type": "code",
   "execution_count": 12,
   "metadata": {},
   "outputs": [],
   "source": [
    "def g(p, beta):\n",
    "    \"\"\"\n",
    "    Implements the Potts model tree recursion.\n",
    "    \n",
    "    Inputs: \n",
    "    p: a (d x q) matrix, giving the marginal probabilities for each of the children. \n",
    "    d here is the number of children and q the number of colors.\n",
    "    \n",
    "    beta: the temperature.\n",
    "    \n",
    "    \n",
    "    Output: a row vector in R^q, giving the marginal probabilities of the parent.\n",
    "    \"\"\"\n",
    "    numerator = np.prod(1 - (1-beta) * p, axis=0)\n",
    "    denominator = np.sum(numerator)\n",
    "    return numerator / denominator"
   ]
  },
  {
   "cell_type": "code",
   "execution_count": 73,
   "metadata": {},
   "outputs": [],
   "source": [
    "def J(p, beta, Psi):\n",
    "    \"\"\"\n",
    "    Calculates the Jacobian of the tree recursion.\n",
    "    \n",
    "    Inputs:\n",
    "    p: a (d x q) matrix, giving the marginal probabilities for each of the children.\n",
    "    d here is the number of children and q the number of colors.\n",
    "\n",
    "    beta: the temperature.\n",
    "    \n",
    "    Psi: (a python function) the derivative of the potential function. It's important \n",
    "    that this function is implemented in such a way that in can be applied elementwise\n",
    "    to numpy arrays.\n",
    "    \n",
    "    Output: a (d x q x q) 3-tensor J, that represents the Jacobian of the tree recursion. \n",
    "    For each i \\in [d], J_i is the Jacobian with respect to just the i'th child's marginals.\n",
    "    \"\"\"\n",
    "    term1 = (1-beta) * ( np.outer(g(p, beta), g(p, beta)) - np.diag(g(p, beta)) )\n",
    "    \n",
    "    def to_apply(p_i):\n",
    "        return np.diag(Psi(g(p,beta))) @ term1 @ np.diag(1/(1-(1-beta)*p_i)) @ np.diag(1/Psi(p_i))\n",
    "    \n",
    "    return np.apply_along_axis(to_apply, 1, p)"
   ]
  },
  {
   "cell_type": "code",
   "execution_count": 74,
   "metadata": {},
   "outputs": [],
   "source": [
    "p = np.array([[0.1,0.9], [0.3,0.7], [0.1,0.9]])"
   ]
  },
  {
   "cell_type": "code",
   "execution_count": 76,
   "metadata": {},
   "outputs": [
    {
     "data": {
      "text/plain": [
       "array([[[-0.31539449,  0.94618347],\n",
       "        [ 0.02294157, -0.06882472]],\n",
       "\n",
       "       [[-0.54627928,  0.83445538],\n",
       "        [ 0.03973597, -0.0606977 ]],\n",
       "\n",
       "       [[-0.31539449,  0.94618347],\n",
       "        [ 0.02294157, -0.06882472]]])"
      ]
     },
     "execution_count": 76,
     "metadata": {},
     "output_type": "execute_result"
    }
   ],
   "source": [
    "def Psi(x):\n",
    "    return 1/(np.sqrt(x) * (1-x))\n",
    "\n",
    "J(p, 0, Psi)"
   ]
  },
  {
   "cell_type": "code",
   "execution_count": 46,
   "metadata": {},
   "outputs": [
    {
     "data": {
      "text/plain": [
       "array([[9.75758477e-01, 1.20464010e-02],\n",
       "       [1.20464010e-02, 1.48720999e-04]])"
      ]
     },
     "execution_count": 46,
     "metadata": {},
     "output_type": "execute_result"
    }
   ],
   "source": []
  },
  {
   "cell_type": "code",
   "execution_count": null,
   "metadata": {},
   "outputs": [],
   "source": []
  }
 ],
 "metadata": {
  "kernelspec": {
   "display_name": "Python 3",
   "language": "python",
   "name": "python3"
  },
  "language_info": {
   "codemirror_mode": {
    "name": "ipython",
    "version": 3
   },
   "file_extension": ".py",
   "mimetype": "text/x-python",
   "name": "python",
   "nbconvert_exporter": "python",
   "pygments_lexer": "ipython3",
   "version": "3.8.1"
  }
 },
 "nbformat": 4,
 "nbformat_minor": 4
}
